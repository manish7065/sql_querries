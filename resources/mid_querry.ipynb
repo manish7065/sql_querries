{
 "cells": [
  {
   "cell_type": "markdown",
   "metadata": {},
   "source": [
    "#### Show the category_name and the average product unit price for each category rounded to 2 decimal places.\n"
   ]
  },
  {
   "cell_type": "code",
   "execution_count": null,
   "metadata": {
    "vscode": {
     "languageId": "sql"
    }
   },
   "outputs": [],
   "source": [
    "SELECT c.category_name, round(avg(p.unit_price),2) as average_unit_price\n",
    "FROM products p\n",
    "JOIN categories c On c.category_id = p.Category_id\n",
    "GROUP BY c.category_name"
   ]
  },
  {
   "cell_type": "markdown",
   "metadata": {
    "vscode": {
     "languageId": "sql"
    }
   },
   "source": [
    "#### Show the ProductName, CompanyName, CategoryName from the products, suppliers, and categories table"
   ]
  },
  {
   "cell_type": "code",
   "execution_count": null,
   "metadata": {
    "vscode": {
     "languageId": "sql"
    }
   },
   "outputs": [],
   "source": []
  },
  {
   "cell_type": "markdown",
   "metadata": {},
   "source": [
    "### Show unique first names from the patients table which only occurs once in the list.\n",
    "\n",
    "For example, if two or more people are named 'John' in the first_name column then don't include their name in the output list. If only 1 person is named 'Leo' then include them in the output."
   ]
  },
  {
   "cell_type": "code",
   "execution_count": null,
   "metadata": {
    "vscode": {
     "languageId": "sql"
    }
   },
   "outputs": [],
   "source": [
    "SELECT first_name FROM patients\n",
    "group by first_name\n",
    "having count(first_name) =1"
   ]
  },
  {
   "cell_type": "markdown",
   "metadata": {},
   "source": [
    "### Show unique birth years from patients and order them by ascending."
   ]
  },
  {
   "cell_type": "code",
   "execution_count": null,
   "metadata": {
    "vscode": {
     "languageId": "sql"
    }
   },
   "outputs": [],
   "source": [
    "SELECT\n",
    "  DISTINCT YEAR(birth_date) AS birth_year\n",
    "FROM patients\n",
    "ORDER BY birth_year;\n",
    "\n",
    "\n",
    "SELECT year(birth_date)\n",
    "FROM patients\n",
    "GROUP BY year(birth_date)"
   ]
  },
  {
   "cell_type": "markdown",
   "metadata": {},
   "source": [
    "###  Show patient_id and first_name from patients where their first_name start and ends with 's' and is at least 6 characters long."
   ]
  },
  {
   "cell_type": "code",
   "execution_count": null,
   "metadata": {
    "vscode": {
     "languageId": "sql"
    }
   },
   "outputs": [],
   "source": [
    "select patient_id,first_name from patients\n",
    "where first_name like 's____%s';\n",
    "\n",
    "SELECT\n",
    "  patient_id,\n",
    "  first_name\n",
    "FROM patients\n",
    "WHERE\n",
    "  first_name LIKE 's%s'\n",
    "  AND len(first_name) >= 6;\n",
    "\n"
   ]
  },
  {
   "cell_type": "markdown",
   "metadata": {},
   "source": [
    "### Show the province_id(s), sum of height; where the total sum of its patient's height is greater than or equal to 7,000."
   ]
  },
  {
   "cell_type": "code",
   "execution_count": null,
   "metadata": {
    "vscode": {
     "languageId": "sql"
    }
   },
   "outputs": [],
   "source": [
    "SELECT\n",
    "  province_id,\n",
    "  SUM(height) AS sum_height\n",
    "FROM patients\n",
    "GROUP BY province_id\n",
    "HAVING sum_height >= 7000\n",
    "\n",
    "\n",
    "select * from (select province_id, SUM(height) as sum_height FROM patients group by province_id) where sum_height >= 7000;"
   ]
  },
  {
   "cell_type": "markdown",
   "metadata": {},
   "source": [
    "### Show patient_id, diagnosis from admissions. Find patients admitted multiple times for the same diagnosis."
   ]
  },
  {
   "cell_type": "code",
   "execution_count": null,
   "metadata": {
    "vscode": {
     "languageId": "sql"
    }
   },
   "outputs": [],
   "source": [
    "SELECT\n",
    "  patient_id,\n",
    "  diagnosis\n",
    "FROM admissions\n",
    "GROUP BY\n",
    "  patient_id,\n",
    "  diagnosis\n",
    "HAVING COUNT(*) > 1;\n",
    "\n"
   ]
  },
  {
   "cell_type": "markdown",
   "metadata": {},
   "source": [
    "### Show all columns for patient_id 542's most recent admission_date."
   ]
  },
  {
   "cell_type": "code",
   "execution_count": null,
   "metadata": {
    "vscode": {
     "languageId": "sql"
    }
   },
   "outputs": [],
   "source": [
    "SELECT *\n",
    "FROM admissions\n",
    "WHERE\n",
    "  patient_id = '542'\n",
    "  AND admission_date = (\n",
    "    SELECT MAX(admission_date)\n",
    "    FROM admissions\n",
    "    WHERE patient_id = '542'\n",
    "  )\n",
    "\n",
    "\n",
    "select * from admissions\n",
    "group by patient_id\n",
    "having patient_id=542\n",
    "and admission_date = max(admission_date)"
   ]
  },
  {
   "cell_type": "markdown",
   "metadata": {},
   "source": [
    "### display the first name, last name and number of duplicate patients based on their first name and last name.\n",
    "\n",
    "Ex: A patient with an identical name can be considered a duplicate."
   ]
  },
  {
   "cell_type": "code",
   "execution_count": null,
   "metadata": {
    "vscode": {
     "languageId": "sql"
    }
   },
   "outputs": [],
   "source": [
    "select\n",
    "  first_name,\n",
    "  last_name,\n",
    "  count(*) as num_of_duplicates\n",
    "from patients\n",
    "group by\n",
    "  first_name,\n",
    "  last_name\n",
    "having count(*) > 1\n",
    "\n",
    "select first_name, last_name, count(*) as duplicates from patients\n",
    "group by first_name,last_name\n",
    "having duplicates>1\n"
   ]
  },
  {
   "cell_type": "code",
   "execution_count": null,
   "metadata": {
    "vscode": {
     "languageId": "sql"
    }
   },
   "outputs": [],
   "source": []
  },
  {
   "cell_type": "code",
   "execution_count": null,
   "metadata": {
    "vscode": {
     "languageId": "sql"
    }
   },
   "outputs": [],
   "source": []
  },
  {
   "cell_type": "code",
   "execution_count": null,
   "metadata": {
    "vscode": {
     "languageId": "sql"
    }
   },
   "outputs": [],
   "source": []
  }
 ],
 "metadata": {
  "language_info": {
   "name": "python"
  }
 },
 "nbformat": 4,
 "nbformat_minor": 2
}
