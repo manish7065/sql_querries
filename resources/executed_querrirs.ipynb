{
 "cells": [
  {
   "cell_type": "markdown",
   "metadata": {},
   "source": [
    "## creating the employees table in postgres DB\n"
   ]
  },
  {
   "cell_type": "code",
   "execution_count": null,
   "metadata": {
    "vscode": {
     "languageId": "sql"
    }
   },
   "outputs": [],
   "source": [
    "CREATE TABLE employees (\n",
    "    employee_id SERIAL PRIMARY KEY,\n",
    "    first_name VARCHAR(40),\n",
    "    last_name VARCHAR(40),\n",
    "    email VARCHAR(50),\n",
    "    phone_number VARCHAR(20),  -- Assuming phone numbers might include dashes or other characters\n",
    "    hire_date TIMESTAMP,\n",
    "    job_id INT,\n",
    "    salary NUMERIC,  -- Use NUMERIC for more precise salary values\n",
    "    commission_pct NUMERIC,  -- Use NUMERIC for percentages\n",
    "    manager_id INT,\n",
    "    department_id INT\n",
    ");\n"
   ]
  },
  {
   "cell_type": "code",
   "execution_count": null,
   "metadata": {
    "vscode": {
     "languageId": "sql"
    }
   },
   "outputs": [],
   "source": [
    "COPY employees (employee_id, first_name, last_name, email, phone_number, hire_date, job_id, salary, commission_pct, manager_id, department_id)\n",
    "FROM '/path/to/your/datafile.csv'\n",
    "WITH (FORMAT csv, HEADER true);\n"
   ]
  },
  {
   "cell_type": "markdown",
   "metadata": {},
   "source": [
    "# Imp querries"
   ]
  },
  {
   "cell_type": "code",
   "execution_count": null,
   "metadata": {
    "vscode": {
     "languageId": "sql"
    }
   },
   "outputs": [],
   "source": [
    "with duplicats as (\n",
    "    select ctid, ROW_NUMBER() OVER( PARTITION BY rci,lni,doc_id order by ctid) as cnt \n",
    "    from table1\n",
    ")\n",
    "delete from table1\n",
    "where ctid in (\n",
    "    select ctid from duplicates where cnt>1\n",
    ")"
   ]
  },
  {
   "cell_type": "code",
   "execution_count": null,
   "metadata": {
    "vscode": {
     "languageId": "sql"
    }
   },
   "outputs": [],
   "source": []
  }
 ],
 "metadata": {
  "language_info": {
   "name": "python"
  }
 },
 "nbformat": 4,
 "nbformat_minor": 2
}
