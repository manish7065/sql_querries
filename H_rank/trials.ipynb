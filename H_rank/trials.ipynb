{
 "cells": [
  {
   "cell_type": "markdown",
   "metadata": {},
   "source": [
    "[question](https://www.hackerrank.com/challenges/binary-search-tree-1/problem?isFullScreen=true)"
   ]
  },
  {
   "cell_type": "code",
   "execution_count": null,
   "metadata": {
    "vscode": {
     "languageId": "sql"
    }
   },
   "outputs": [],
   "source": [
    "WITH\n",
    "-- Identify Root Nodes\n",
    "RootNodes AS (\n",
    "    SELECT DISTINCT N AS Node\n",
    "    FROM BST\n",
    "    WHERE P IS NULL\n",
    "),\n",
    "\n",
    "-- Identify Leaf Nodes\n",
    "LeafNodes AS (\n",
    "    SELECT DISTINCT N AS Node\n",
    "    FROM BST\n",
    "    WHERE N NOT IN (SELECT DISTINCT P FROM BST WHERE P IS NOT NULL)\n",
    "),\n",
    "\n",
    "-- Identify Inner Nodes\n",
    "InnerNodes AS (\n",
    "    SELECT DISTINCT N AS Node\n",
    "    FROM BST\n",
    "    WHERE N IN (SELECT DISTINCT P FROM BST) -- Node is a parent (has children)\n",
    "    AND N IN (SELECT DISTINCT N FROM BST WHERE P IS NOT NULL) -- Node is a child (has a parent)\n",
    ")\n",
    "\n",
    "-- Final selection of node types\n",
    "SELECT\n",
    "    N AS Node,\n",
    "    CASE\n",
    "        WHEN N IN (SELECT Node FROM RootNodes) THEN 'Root'\n",
    "        WHEN N IN (SELECT Node FROM LeafNodes) THEN 'Leaf'\n",
    "        ELSE 'Inner'\n",
    "    END AS NodeType\n",
    "FROM BST\n",
    "ORDER BY N;\n"
   ]
  },
  {
   "cell_type": "code",
   "execution_count": null,
   "metadata": {
    "vscode": {
     "languageId": "sql"
    }
   },
   "outputs": [],
   "source": [
    "with min_max as(\n",
    "select min(len(CITY)) as min_,max(len(CITY)) as max_from STATION\n",
    ")\n",
    "\n",
    "SELECT CITY, len(CITY) FROM STATION\n",
    "WHERE len(CITY) IN (SELECT * FROM MIN_MAX)\n",
    "ORDER BY CITY;\n"
   ]
  },
  {
   "cell_type": "code",
   "execution_count": null,
   "metadata": {
    "vscode": {
     "languageId": "sql"
    }
   },
   "outputs": [],
   "source": []
  },
  {
   "cell_type": "code",
   "execution_count": null,
   "metadata": {
    "vscode": {
     "languageId": "sql"
    }
   },
   "outputs": [],
   "source": []
  }
 ],
 "metadata": {
  "language_info": {
   "name": "python"
  }
 },
 "nbformat": 4,
 "nbformat_minor": 2
}
